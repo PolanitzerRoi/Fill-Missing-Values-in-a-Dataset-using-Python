{
 "cells": [
  {
   "cell_type": "code",
   "execution_count": 1,
   "metadata": {},
   "outputs": [],
   "source": [
    "import numpy as np"
   ]
  },
  {
   "cell_type": "code",
   "execution_count": 10,
   "metadata": {},
   "outputs": [
    {
     "name": "stdout",
     "output_type": "stream",
     "text": [
      "[[nan  9.  8.]\n",
      " [ 9. nan  7.]\n",
      " [ 8.  7. nan]\n",
      " [ 7.  6.  5.]]\n"
     ]
    }
   ],
   "source": [
    "data = np.array([\n",
    "                 [np.nan,      9,          8], \n",
    "                 [9,      np.nan,          7], \n",
    "                 [8,           7,     np.nan], \n",
    "                 [7,           6,          5]\n",
    "               ])\n",
    "print(data)"
   ]
  },
  {
   "cell_type": "code",
   "execution_count": 11,
   "metadata": {},
   "outputs": [
    {
     "name": "stdout",
     "output_type": "stream",
     "text": [
      "[[8.         9.         8.        ]\n",
      " [9.         7.33333333 7.        ]\n",
      " [8.         7.         6.66666667]\n",
      " [7.         6.         5.        ]]\n"
     ]
    }
   ],
   "source": [
    "# Filling Values with mean\n",
    "from sklearn.impute import SimpleImputer\n",
    "mean_values = SimpleImputer(strategy='mean')\n",
    "data1 = mean_values.fit_transform(data)\n",
    "print(data1)"
   ]
  },
  {
   "cell_type": "code",
   "execution_count": 12,
   "metadata": {},
   "outputs": [
    {
     "name": "stdout",
     "output_type": "stream",
     "text": [
      "[[8. 9. 8.]\n",
      " [9. 7. 7.]\n",
      " [8. 7. 7.]\n",
      " [7. 6. 5.]]\n"
     ]
    }
   ],
   "source": [
    "# Filling Values with median\n",
    "from sklearn.impute import SimpleImputer\n",
    "median_values = SimpleImputer(strategy='median')\n",
    "data2 = median_values.fit_transform(data)\n",
    "print(data2)"
   ]
  },
  {
   "cell_type": "code",
   "execution_count": 13,
   "metadata": {},
   "outputs": [
    {
     "name": "stdout",
     "output_type": "stream",
     "text": [
      "[[7. 9. 8.]\n",
      " [9. 6. 7.]\n",
      " [8. 7. 5.]\n",
      " [7. 6. 5.]]\n"
     ]
    }
   ],
   "source": [
    "# Filling values with most frequent values\n",
    "from sklearn.impute import SimpleImputer\n",
    "most_frequent = SimpleImputer(strategy='most_frequent')\n",
    "data3 = most_frequent.fit_transform(data)\n",
    "print(data3)"
   ]
  }
 ],
 "metadata": {
  "kernelspec": {
   "display_name": "Python 3",
   "language": "python",
   "name": "python3"
  },
  "language_info": {
   "codemirror_mode": {
    "name": "ipython",
    "version": 3
   },
   "file_extension": ".py",
   "mimetype": "text/x-python",
   "name": "python",
   "nbconvert_exporter": "python",
   "pygments_lexer": "ipython3",
   "version": "3.7.4"
  }
 },
 "nbformat": 4,
 "nbformat_minor": 4
}
